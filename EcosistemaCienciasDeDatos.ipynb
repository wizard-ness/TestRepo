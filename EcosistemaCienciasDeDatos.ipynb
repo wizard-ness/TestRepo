{
 "cells": [
  {
   "cell_type": "markdown",
   "id": "48f32415",
   "metadata": {},
   "source": [
    "# Herramientas y Ecosistema de la Ciencia de Datos "
   ]
  },
  {
   "cell_type": "markdown",
   "id": "6ce96c3b",
   "metadata": {},
   "source": [
    "En este Cuaderno se resume las herramientas y el ecosistema de la Ciencia de Datos"
   ]
  },
  {
   "cell_type": "markdown",
   "id": "10d5526e",
   "metadata": {},
   "source": [
    "Algunos de los lenguajes mas populares que los cientificos de datos usan son:\n",
    "\n",
    "1. Python\n",
    "2. R\n",
    "3. SQL\n",
    "4. Java"
   ]
  },
  {
   "cell_type": "markdown",
   "id": "13c91aef",
   "metadata": {},
   "source": [
    "Algunas de las bibliotecas mas comunmente usadas por los cientificos de datos son:\n",
    "\n",
    "1. Pandas\n",
    "2. NumPy\n",
    "3. Matplotlib\n",
    "4. TensorFlow"
   ]
  },
  {
   "cell_type": "markdown",
   "id": "712eecd9",
   "metadata": {},
   "source": [
    "| Herramientas Ciencias de Datos |\n",
    "| ------------------------------ |\n",
    "| Jupyter Notebook |\n",
    "| RStudio |\n",
    "| Apache Zeppelin |"
   ]
  },
  {
   "cell_type": "markdown",
   "id": "93353027",
   "metadata": {},
   "source": [
    "### A continuación, se muestran algunos ejemplos de evaluación de expresiones arismeticas en Python"
   ]
  },
  {
   "cell_type": "code",
   "execution_count": 1,
   "id": "b179dd3a",
   "metadata": {},
   "outputs": [
    {
     "data": {
      "text/plain": [
       "17"
      ]
     },
     "execution_count": 1,
     "metadata": {},
     "output_type": "execute_result"
    }
   ],
   "source": [
    "# Esta es una expresión aritmatica simple para multiplicar y luego sumar números enteros\n",
    "(3 * 4) + 5"
   ]
  },
  {
   "cell_type": "code",
   "execution_count": 2,
   "id": "ea91b3f8",
   "metadata": {},
   "outputs": [
    {
     "data": {
      "text/plain": [
       "3.3333333333333335"
      ]
     },
     "execution_count": 2,
     "metadata": {},
     "output_type": "execute_result"
    }
   ],
   "source": [
    "# Esto convertira 200 minutos a horas dividiendo entre 60\n",
    "200 / 60"
   ]
  },
  {
   "cell_type": "markdown",
   "id": "acf5c3d3",
   "metadata": {},
   "source": [
    "**Objetivos del cuaderno**\n",
    "- Listar los lenguajes populares para la Ciencia de Datos\n",
    "- Identificar bibliotecas comunmente utilizadas en Ciencias de Datos\n",
    "- Describir herramientas de codigo para la ciencia de datos\n",
    "- Demostrar operaciones aritmeticas basicas en Python"
   ]
  },
  {
   "cell_type": "markdown",
   "id": "7a828cef",
   "metadata": {},
   "source": [
    "## Autor\n",
    "Liliana Valverde Huenuqueo"
   ]
  },
  {
   "cell_type": "code",
   "execution_count": null,
   "id": "119992d0",
   "metadata": {},
   "outputs": [],
   "source": []
  }
 ],
 "metadata": {
  "kernelspec": {
   "display_name": "Python 3 (ipykernel)",
   "language": "python",
   "name": "python3"
  },
  "language_info": {
   "codemirror_mode": {
    "name": "ipython",
    "version": 3
   },
   "file_extension": ".py",
   "mimetype": "text/x-python",
   "name": "python",
   "nbconvert_exporter": "python",
   "pygments_lexer": "ipython3",
   "version": "3.11.4"
  }
 },
 "nbformat": 4,
 "nbformat_minor": 5
}
